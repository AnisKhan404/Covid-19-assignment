{
 "cells": [
  {
   "cell_type": "markdown",
   "id": "245b3ae5-1d02-4130-a739-fa39882ade36",
   "metadata": {},
   "source": [
    "### 1. Load and Display Data → Read the dataset and print the first 5 rows.\n",
    "### 2. Set the Dataset index is Unnamed: 0"
   ]
  },
  {
   "cell_type": "code",
   "execution_count": 3,
   "id": "b6e3f7b8-8764-4964-b568-d406c5f343dc",
   "metadata": {},
   "outputs": [],
   "source": [
    "import pandas as pd"
   ]
  },
  {
   "cell_type": "code",
   "execution_count": 4,
   "id": "afb8bf41-9a65-424e-a492-27193eef9da7",
   "metadata": {},
   "outputs": [
    {
     "data": {
      "text/html": [
       "<div>\n",
       "<style scoped>\n",
       "    .dataframe tbody tr th:only-of-type {\n",
       "        vertical-align: middle;\n",
       "    }\n",
       "\n",
       "    .dataframe tbody tr th {\n",
       "        vertical-align: top;\n",
       "    }\n",
       "\n",
       "    .dataframe thead th {\n",
       "        text-align: right;\n",
       "    }\n",
       "</style>\n",
       "<table border=\"1\" class=\"dataframe\">\n",
       "  <thead>\n",
       "    <tr style=\"text-align: right;\">\n",
       "      <th></th>\n",
       "      <th>Country/Region</th>\n",
       "      <th>Confirmed</th>\n",
       "      <th>Deaths</th>\n",
       "      <th>Recovered</th>\n",
       "      <th>Active</th>\n",
       "      <th>New cases</th>\n",
       "      <th>New deaths</th>\n",
       "      <th>New recovered</th>\n",
       "      <th>Deaths / 100 Cases</th>\n",
       "      <th>Recovered / 100 Cases</th>\n",
       "      <th>Deaths / 100 Recovered</th>\n",
       "      <th>Confirmed last week</th>\n",
       "      <th>1 week change</th>\n",
       "      <th>1 week % increase</th>\n",
       "      <th>WHO Region</th>\n",
       "    </tr>\n",
       "  </thead>\n",
       "  <tbody>\n",
       "    <tr>\n",
       "      <th>0</th>\n",
       "      <td>Afghanistan</td>\n",
       "      <td>36263</td>\n",
       "      <td>1269</td>\n",
       "      <td>25198</td>\n",
       "      <td>9796</td>\n",
       "      <td>106.0</td>\n",
       "      <td>10.0</td>\n",
       "      <td>18</td>\n",
       "      <td>3.50</td>\n",
       "      <td>69.49</td>\n",
       "      <td>5.04</td>\n",
       "      <td>35526</td>\n",
       "      <td>737</td>\n",
       "      <td>2.07</td>\n",
       "      <td>Eastern Mediterranean</td>\n",
       "    </tr>\n",
       "    <tr>\n",
       "      <th>1</th>\n",
       "      <td>Albania</td>\n",
       "      <td>4880</td>\n",
       "      <td>144</td>\n",
       "      <td>2745</td>\n",
       "      <td>1991</td>\n",
       "      <td>117.0</td>\n",
       "      <td>6.0</td>\n",
       "      <td>63</td>\n",
       "      <td>2.95</td>\n",
       "      <td>56.25</td>\n",
       "      <td>5.25</td>\n",
       "      <td>4171</td>\n",
       "      <td>709</td>\n",
       "      <td>17.00</td>\n",
       "      <td>Europe</td>\n",
       "    </tr>\n",
       "    <tr>\n",
       "      <th>2</th>\n",
       "      <td>Algeria</td>\n",
       "      <td>27973</td>\n",
       "      <td>1163</td>\n",
       "      <td>18837</td>\n",
       "      <td>7973</td>\n",
       "      <td>616.0</td>\n",
       "      <td>8.0</td>\n",
       "      <td>749</td>\n",
       "      <td>4.16</td>\n",
       "      <td>67.34</td>\n",
       "      <td>6.17</td>\n",
       "      <td>23691</td>\n",
       "      <td>4282</td>\n",
       "      <td>18.07</td>\n",
       "      <td>Africa</td>\n",
       "    </tr>\n",
       "    <tr>\n",
       "      <th>3</th>\n",
       "      <td>Andorra</td>\n",
       "      <td>907</td>\n",
       "      <td>52</td>\n",
       "      <td>803</td>\n",
       "      <td>52</td>\n",
       "      <td>10.0</td>\n",
       "      <td>0.0</td>\n",
       "      <td>0</td>\n",
       "      <td>5.73</td>\n",
       "      <td>88.53</td>\n",
       "      <td>6.48</td>\n",
       "      <td>884</td>\n",
       "      <td>23</td>\n",
       "      <td>2.60</td>\n",
       "      <td>Europe</td>\n",
       "    </tr>\n",
       "    <tr>\n",
       "      <th>4</th>\n",
       "      <td>Angola</td>\n",
       "      <td>950</td>\n",
       "      <td>41</td>\n",
       "      <td>242</td>\n",
       "      <td>667</td>\n",
       "      <td>18.0</td>\n",
       "      <td>1.0</td>\n",
       "      <td>0</td>\n",
       "      <td>4.32</td>\n",
       "      <td>25.47</td>\n",
       "      <td>16.94</td>\n",
       "      <td>749</td>\n",
       "      <td>201</td>\n",
       "      <td>26.84</td>\n",
       "      <td>Africa</td>\n",
       "    </tr>\n",
       "  </tbody>\n",
       "</table>\n",
       "</div>"
      ],
      "text/plain": [
       "  Country/Region  Confirmed Deaths  Recovered  Active  New cases  New deaths  \\\n",
       "0    Afghanistan      36263   1269      25198    9796      106.0        10.0   \n",
       "1        Albania       4880    144       2745    1991      117.0         6.0   \n",
       "2        Algeria      27973   1163      18837    7973      616.0         8.0   \n",
       "3        Andorra        907     52        803      52       10.0         0.0   \n",
       "4         Angola        950     41        242     667       18.0         1.0   \n",
       "\n",
       "   New recovered  Deaths / 100 Cases  Recovered / 100 Cases  \\\n",
       "0             18                3.50                  69.49   \n",
       "1             63                2.95                  56.25   \n",
       "2            749                4.16                  67.34   \n",
       "3              0                5.73                  88.53   \n",
       "4              0                4.32                  25.47   \n",
       "\n",
       "   Deaths / 100 Recovered  Confirmed last week  1 week change  \\\n",
       "0                    5.04                35526            737   \n",
       "1                    5.25                 4171            709   \n",
       "2                    6.17                23691           4282   \n",
       "3                    6.48                  884             23   \n",
       "4                   16.94                  749            201   \n",
       "\n",
       "   1 week % increase             WHO Region  \n",
       "0               2.07  Eastern Mediterranean  \n",
       "1              17.00                 Europe  \n",
       "2              18.07                 Africa  \n",
       "3               2.60                 Europe  \n",
       "4              26.84                 Africa  "
      ]
     },
     "execution_count": 4,
     "metadata": {},
     "output_type": "execute_result"
    }
   ],
   "source": [
    "data = pd.read_csv(\"D:/Others/covid_19_country_wise_latest.csv\",index_col=\"Unnamed: 0\")\n",
    "data.head(5)"
   ]
  },
  {
   "cell_type": "markdown",
   "id": "f210a3d4-4dcf-40c6-ac71-86532c8557af",
   "metadata": {},
   "source": [
    "### 3. Now replace the index column Unnamed: 0 name with index"
   ]
  },
  {
   "cell_type": "code",
   "execution_count": 6,
   "id": "0d73a195-d008-4c3e-bf19-410042eafd83",
   "metadata": {},
   "outputs": [
    {
     "data": {
      "text/html": [
       "<div>\n",
       "<style scoped>\n",
       "    .dataframe tbody tr th:only-of-type {\n",
       "        vertical-align: middle;\n",
       "    }\n",
       "\n",
       "    .dataframe tbody tr th {\n",
       "        vertical-align: top;\n",
       "    }\n",
       "\n",
       "    .dataframe thead th {\n",
       "        text-align: right;\n",
       "    }\n",
       "</style>\n",
       "<table border=\"1\" class=\"dataframe\">\n",
       "  <thead>\n",
       "    <tr style=\"text-align: right;\">\n",
       "      <th></th>\n",
       "      <th>Country/Region</th>\n",
       "      <th>Confirmed</th>\n",
       "      <th>Deaths</th>\n",
       "      <th>Recovered</th>\n",
       "      <th>Active</th>\n",
       "      <th>New cases</th>\n",
       "      <th>New deaths</th>\n",
       "      <th>New recovered</th>\n",
       "      <th>Deaths / 100 Cases</th>\n",
       "      <th>Recovered / 100 Cases</th>\n",
       "      <th>Deaths / 100 Recovered</th>\n",
       "      <th>Confirmed last week</th>\n",
       "      <th>1 week change</th>\n",
       "      <th>1 week % increase</th>\n",
       "      <th>WHO Region</th>\n",
       "    </tr>\n",
       "    <tr>\n",
       "      <th>Index</th>\n",
       "      <th></th>\n",
       "      <th></th>\n",
       "      <th></th>\n",
       "      <th></th>\n",
       "      <th></th>\n",
       "      <th></th>\n",
       "      <th></th>\n",
       "      <th></th>\n",
       "      <th></th>\n",
       "      <th></th>\n",
       "      <th></th>\n",
       "      <th></th>\n",
       "      <th></th>\n",
       "      <th></th>\n",
       "      <th></th>\n",
       "    </tr>\n",
       "  </thead>\n",
       "  <tbody>\n",
       "    <tr>\n",
       "      <th>0</th>\n",
       "      <td>Afghanistan</td>\n",
       "      <td>36263</td>\n",
       "      <td>1269</td>\n",
       "      <td>25198</td>\n",
       "      <td>9796</td>\n",
       "      <td>106.0</td>\n",
       "      <td>10.0</td>\n",
       "      <td>18</td>\n",
       "      <td>3.5</td>\n",
       "      <td>69.49</td>\n",
       "      <td>5.04</td>\n",
       "      <td>35526</td>\n",
       "      <td>737</td>\n",
       "      <td>2.07</td>\n",
       "      <td>Eastern Mediterranean</td>\n",
       "    </tr>\n",
       "  </tbody>\n",
       "</table>\n",
       "</div>"
      ],
      "text/plain": [
       "      Country/Region  Confirmed Deaths  Recovered  Active  New cases  \\\n",
       "Index                                                                  \n",
       "0        Afghanistan      36263   1269      25198    9796      106.0   \n",
       "\n",
       "       New deaths  New recovered  Deaths / 100 Cases  Recovered / 100 Cases  \\\n",
       "Index                                                                         \n",
       "0            10.0             18                 3.5                  69.49   \n",
       "\n",
       "       Deaths / 100 Recovered  Confirmed last week  1 week change  \\\n",
       "Index                                                               \n",
       "0                        5.04                35526            737   \n",
       "\n",
       "       1 week % increase             WHO Region  \n",
       "Index                                            \n",
       "0                   2.07  Eastern Mediterranean  "
      ]
     },
     "execution_count": 6,
     "metadata": {},
     "output_type": "execute_result"
    }
   ],
   "source": [
    "data.index.name = \"Index\"\n",
    "data.head(1)"
   ]
  },
  {
   "cell_type": "markdown",
   "id": "1b69a569-25b8-4fca-9136-9c2e72dcb5e4",
   "metadata": {},
   "source": [
    "### 4. Create Function that take dataset columns and replace whitespace with Underscore and update dataset automatically and the pass the dataset."
   ]
  },
  {
   "cell_type": "code",
   "execution_count": 8,
   "id": "16d090b4-733e-4f6a-b26c-d139d2996c53",
   "metadata": {},
   "outputs": [],
   "source": [
    "def rename_col(data):\n",
    "    data.columns = data.columns.str.replace(\" \",\"_\")\n",
    "    return data"
   ]
  },
  {
   "cell_type": "code",
   "execution_count": 9,
   "id": "33103c4e-17e4-4e1f-8f7d-3d360a5a3080",
   "metadata": {},
   "outputs": [],
   "source": [
    "data = rename_col(data)"
   ]
  },
  {
   "cell_type": "code",
   "execution_count": 10,
   "id": "fee0c0f3-0516-4ca1-8f7f-c313124ed5b1",
   "metadata": {},
   "outputs": [
    {
     "data": {
      "text/html": [
       "<div>\n",
       "<style scoped>\n",
       "    .dataframe tbody tr th:only-of-type {\n",
       "        vertical-align: middle;\n",
       "    }\n",
       "\n",
       "    .dataframe tbody tr th {\n",
       "        vertical-align: top;\n",
       "    }\n",
       "\n",
       "    .dataframe thead th {\n",
       "        text-align: right;\n",
       "    }\n",
       "</style>\n",
       "<table border=\"1\" class=\"dataframe\">\n",
       "  <thead>\n",
       "    <tr style=\"text-align: right;\">\n",
       "      <th></th>\n",
       "      <th>Country/Region</th>\n",
       "      <th>Confirmed</th>\n",
       "      <th>Deaths</th>\n",
       "      <th>Recovered</th>\n",
       "      <th>Active</th>\n",
       "      <th>New_cases</th>\n",
       "      <th>New_deaths</th>\n",
       "      <th>New_recovered</th>\n",
       "      <th>Deaths_/_100_Cases</th>\n",
       "      <th>Recovered_/_100_Cases</th>\n",
       "      <th>Deaths_/_100_Recovered</th>\n",
       "      <th>Confirmed_last_week</th>\n",
       "      <th>1_week_change</th>\n",
       "      <th>1_week_%_increase</th>\n",
       "      <th>WHO_Region</th>\n",
       "    </tr>\n",
       "    <tr>\n",
       "      <th>Index</th>\n",
       "      <th></th>\n",
       "      <th></th>\n",
       "      <th></th>\n",
       "      <th></th>\n",
       "      <th></th>\n",
       "      <th></th>\n",
       "      <th></th>\n",
       "      <th></th>\n",
       "      <th></th>\n",
       "      <th></th>\n",
       "      <th></th>\n",
       "      <th></th>\n",
       "      <th></th>\n",
       "      <th></th>\n",
       "      <th></th>\n",
       "    </tr>\n",
       "  </thead>\n",
       "  <tbody>\n",
       "    <tr>\n",
       "      <th>0</th>\n",
       "      <td>Afghanistan</td>\n",
       "      <td>36263</td>\n",
       "      <td>1269</td>\n",
       "      <td>25198</td>\n",
       "      <td>9796</td>\n",
       "      <td>106.0</td>\n",
       "      <td>10.0</td>\n",
       "      <td>18</td>\n",
       "      <td>3.5</td>\n",
       "      <td>69.49</td>\n",
       "      <td>5.04</td>\n",
       "      <td>35526</td>\n",
       "      <td>737</td>\n",
       "      <td>2.07</td>\n",
       "      <td>Eastern Mediterranean</td>\n",
       "    </tr>\n",
       "  </tbody>\n",
       "</table>\n",
       "</div>"
      ],
      "text/plain": [
       "      Country/Region  Confirmed Deaths  Recovered  Active  New_cases  \\\n",
       "Index                                                                  \n",
       "0        Afghanistan      36263   1269      25198    9796      106.0   \n",
       "\n",
       "       New_deaths  New_recovered  Deaths_/_100_Cases  Recovered_/_100_Cases  \\\n",
       "Index                                                                         \n",
       "0            10.0             18                 3.5                  69.49   \n",
       "\n",
       "       Deaths_/_100_Recovered  Confirmed_last_week  1_week_change  \\\n",
       "Index                                                               \n",
       "0                        5.04                35526            737   \n",
       "\n",
       "       1_week_%_increase             WHO_Region  \n",
       "Index                                            \n",
       "0                   2.07  Eastern Mediterranean  "
      ]
     },
     "execution_count": 10,
     "metadata": {},
     "output_type": "execute_result"
    }
   ],
   "source": [
    "data.head(1)"
   ]
  },
  {
   "cell_type": "markdown",
   "id": "3b0a3cdd-703e-43e6-9236-00041544ec8b",
   "metadata": {},
   "source": [
    "### 5. Check Basic Information → Find column names, data types, andmissing values."
   ]
  },
  {
   "cell_type": "code",
   "execution_count": 12,
   "id": "0e8555bb-2dc4-4e77-9025-0e0325bdcc8e",
   "metadata": {},
   "outputs": [
    {
     "name": "stdout",
     "output_type": "stream",
     "text": [
      "<class 'pandas.core.frame.DataFrame'>\n",
      "Index: 187 entries, 0 to 186\n",
      "Data columns (total 15 columns):\n",
      " #   Column                  Non-Null Count  Dtype  \n",
      "---  ------                  --------------  -----  \n",
      " 0   Country/Region          187 non-null    object \n",
      " 1   Confirmed               187 non-null    int64  \n",
      " 2   Deaths                  187 non-null    object \n",
      " 3   Recovered               187 non-null    int64  \n",
      " 4   Active                  187 non-null    int64  \n",
      " 5   New_cases               177 non-null    float64\n",
      " 6   New_deaths              177 non-null    float64\n",
      " 7   New_recovered           187 non-null    int64  \n",
      " 8   Deaths_/_100_Cases      187 non-null    float64\n",
      " 9   Recovered_/_100_Cases   187 non-null    float64\n",
      " 10  Deaths_/_100_Recovered  187 non-null    float64\n",
      " 11  Confirmed_last_week     187 non-null    int64  \n",
      " 12  1_week_change           187 non-null    int64  \n",
      " 13  1_week_%_increase       187 non-null    float64\n",
      " 14  WHO_Region              187 non-null    object \n",
      "dtypes: float64(6), int64(6), object(3)\n",
      "memory usage: 23.4+ KB\n"
     ]
    }
   ],
   "source": [
    "data.info()"
   ]
  },
  {
   "cell_type": "markdown",
   "id": "093f5f8d-f58b-4f18-8b09-24daccd82e6c",
   "metadata": {},
   "source": [
    "### 6. fill the nan values with the mean of the column"
   ]
  },
  {
   "cell_type": "code",
   "execution_count": 14,
   "id": "0567cdb9-49ab-47fc-be32-7d5a8e6c6503",
   "metadata": {},
   "outputs": [],
   "source": [
    "data.New_cases = data.New_cases.fillna(data.New_cases.mean())"
   ]
  },
  {
   "cell_type": "code",
   "execution_count": 15,
   "id": "e744bda2-3622-489e-997c-e6f68da670c3",
   "metadata": {},
   "outputs": [
    {
     "data": {
      "text/plain": [
       "0"
      ]
     },
     "execution_count": 15,
     "metadata": {},
     "output_type": "execute_result"
    }
   ],
   "source": [
    "data.New_cases.isna().sum()"
   ]
  },
  {
   "cell_type": "code",
   "execution_count": 16,
   "id": "fe251b93-a2a3-4da2-a17b-1480f0d13eab",
   "metadata": {},
   "outputs": [],
   "source": [
    "data.New_deaths = data.New_deaths.fillna(data.New_deaths.mean())"
   ]
  },
  {
   "cell_type": "code",
   "execution_count": 17,
   "id": "ce302aa2-bc97-402b-b5b1-17aee720debe",
   "metadata": {},
   "outputs": [
    {
     "data": {
      "text/plain": [
       "0"
      ]
     },
     "execution_count": 17,
     "metadata": {},
     "output_type": "execute_result"
    }
   ],
   "source": [
    "data.New_deaths.isna().sum()"
   ]
  },
  {
   "cell_type": "markdown",
   "id": "1ba18a2e-ae71-413a-a7a4-f5a6f89d9f86",
   "metadata": {},
   "source": [
    "### 7. Count the number of unique countries in the dataset."
   ]
  },
  {
   "cell_type": "code",
   "execution_count": 19,
   "id": "a7c095c8-004c-4cad-9b93-fcfa08da72e1",
   "metadata": {},
   "outputs": [
    {
     "name": "stdout",
     "output_type": "stream",
     "text": [
      "187\n"
     ]
    }
   ],
   "source": [
    "unique_countries = data[\"Country/Region\"].unique()\n",
    "print(len(unique_countries))"
   ]
  },
  {
   "cell_type": "markdown",
   "id": "58d0c311-8cb2-4533-a344-7244f3fd4394",
   "metadata": {},
   "source": [
    "### 8. Check if there are any duplicate country entries and remove them if needed."
   ]
  },
  {
   "cell_type": "code",
   "execution_count": 21,
   "id": "a1010b93-682c-42f6-8e03-28375d849fa2",
   "metadata": {},
   "outputs": [
    {
     "data": {
      "text/plain": [
       "0"
      ]
     },
     "execution_count": 21,
     "metadata": {},
     "output_type": "execute_result"
    }
   ],
   "source": [
    "data[\"Country/Region\"].duplicated().sum()"
   ]
  },
  {
   "cell_type": "markdown",
   "id": "a2f75599-d1b1-48c7-84cf-b890fb5c891c",
   "metadata": {},
   "source": [
    "### 9. Find the mean, median, and standard deviation of total cases."
   ]
  },
  {
   "cell_type": "code",
   "execution_count": 23,
   "id": "f06f11e9-cadf-496a-a18f-325d59dade12",
   "metadata": {},
   "outputs": [
    {
     "data": {
      "text/plain": [
       "count    1.870000e+02\n",
       "mean     8.813094e+04\n",
       "std      3.833187e+05\n",
       "min      1.000000e+01\n",
       "25%      1.114000e+03\n",
       "50%      5.059000e+03\n",
       "75%      4.046050e+04\n",
       "max      4.290259e+06\n",
       "Name: Confirmed, dtype: float64"
      ]
     },
     "execution_count": 23,
     "metadata": {},
     "output_type": "execute_result"
    }
   ],
   "source": [
    "data.Confirmed.describe()"
   ]
  },
  {
   "cell_type": "markdown",
   "id": "c2763cd7-415f-445e-9ffe-e830da2a04ee",
   "metadata": {},
   "source": [
    "## 10. Find out the string in Deaths Column and replace it with the mean of Deaths column."
   ]
  },
  {
   "cell_type": "code",
   "execution_count": 25,
   "id": "f5a5febe-adec-4dff-b29a-99f796de9780",
   "metadata": {},
   "outputs": [
    {
     "data": {
      "text/plain": [
       "array(['1269', '144', '1163', '52', '41', '3', '3059', '711', '167',\n",
       "       '713', '423', '11', '141', '2965', '7', '538', '9822', '2', '35',\n",
       "       '0', '2647', '294', '87618', '347', '53', '6', '1', '22', '391',\n",
       "       '8944', '59', '75', '9187', '4656', '8777', '54', '208', '115',\n",
       "       '96', '139', '87', '19', '373', '613', '58', '1083', '5532',\n",
       "       '4652', '408', '51', '69', '34', '228', '329', '30212', '49', '8',\n",
       "       '16', '9125', '168', '202', '1761', '45', '26', '20', '158',\n",
       "       '1166', '596', '10', '33408', '4838', '15912', '4458', '1764',\n",
       "       '474', '35112', '998', '585', '285', '185', '438', '1301', '31',\n",
       "       '12', '72', '64', '80', '112', '91', '99', '124', '15', '9', '156',\n",
       "       '44022', '748', '4', '316', '48', '6160', '108', '860', '466',\n",
       "       '255', '393', '5842', '1322', '43', '18418', '1945', '1676',\n",
       "       '1719', '165', '2206', '13334', '5', '42', '14', '2760', '194',\n",
       "       '543', '66', '27', '28', '116', '93', '7067', '300', '46', '28432',\n",
       "       '720', '24', '5700', '1978', '40', '60', '21', '18', '50', '5630',\n",
       "       '148011', '1636', '345', '45844', '121', '146', '78', '483', '140',\n",
       "       'non'], dtype=object)"
      ]
     },
     "execution_count": 25,
     "metadata": {},
     "output_type": "execute_result"
    }
   ],
   "source": [
    "data.Deaths.unique()"
   ]
  },
  {
   "cell_type": "code",
   "execution_count": 26,
   "id": "04b59d42-ee2e-41d4-b862-fc2f2ce2a104",
   "metadata": {},
   "outputs": [
    {
     "data": {
      "text/plain": [
       "3516.1290322580644"
      ]
     },
     "execution_count": 26,
     "metadata": {},
     "output_type": "execute_result"
    }
   ],
   "source": [
    "m_value = data.Deaths.str.replace(\"non\",\"nan\").astype(float).mean()\n",
    "m_value"
   ]
  },
  {
   "cell_type": "code",
   "execution_count": 27,
   "id": "faf03de0-755a-43bc-b229-57c91a109cfb",
   "metadata": {},
   "outputs": [],
   "source": [
    "data.Deaths = data.Deaths.str.replace(\"non\",\"3516\")"
   ]
  },
  {
   "cell_type": "markdown",
   "id": "d63dcfaa-066d-4f2e-9d4e-3f40554bb56c",
   "metadata": {},
   "source": [
    "### 11. Change the datatype of column Death"
   ]
  },
  {
   "cell_type": "code",
   "execution_count": 29,
   "id": "f1d8e545-71da-4213-b8f3-c3b50fb18293",
   "metadata": {},
   "outputs": [
    {
     "data": {
      "text/plain": [
       "Index\n",
       "0      1269.0\n",
       "1       144.0\n",
       "2      1163.0\n",
       "3        52.0\n",
       "4        41.0\n",
       "        ...  \n",
       "182      78.0\n",
       "183       1.0\n",
       "184     483.0\n",
       "185     140.0\n",
       "186    3516.0\n",
       "Name: Deaths, Length: 187, dtype: float64"
      ]
     },
     "execution_count": 29,
     "metadata": {},
     "output_type": "execute_result"
    }
   ],
   "source": [
    "data.Deaths = data.Deaths.astype(float)\n",
    "data.Deaths"
   ]
  },
  {
   "cell_type": "markdown",
   "id": "5df4f71d-1adb-42fe-92e0-a748f41bbdf4",
   "metadata": {},
   "source": [
    "### 12. Calculate total number of Death and Recovery all over the world"
   ]
  },
  {
   "cell_type": "code",
   "execution_count": 31,
   "id": "c275685d-225b-4938-a0a9-a30f19dd98c3",
   "metadata": {},
   "outputs": [
    {
     "data": {
      "text/plain": [
       "657516.0"
      ]
     },
     "execution_count": 31,
     "metadata": {},
     "output_type": "execute_result"
    }
   ],
   "source": [
    "data.Deaths.sum()"
   ]
  },
  {
   "cell_type": "code",
   "execution_count": 32,
   "id": "664fc42f-e349-4ed8-92ac-b6d36bc44de9",
   "metadata": {},
   "outputs": [
    {
     "data": {
      "text/plain": [
       "9468087"
      ]
     },
     "execution_count": 32,
     "metadata": {},
     "output_type": "execute_result"
    }
   ],
   "source": [
    "data.Recovered.sum()"
   ]
  },
  {
   "cell_type": "code",
   "execution_count": 33,
   "id": "95ce8c16-bb9a-4bd4-b52d-c0418bd0f527",
   "metadata": {},
   "outputs": [
    {
     "data": {
      "text/plain": [
       "Index(['Country/Region', 'Confirmed', 'Deaths', 'Recovered', 'Active',\n",
       "       'New_cases', 'New_deaths', 'New_recovered', 'Deaths_/_100_Cases',\n",
       "       'Recovered_/_100_Cases', 'Deaths_/_100_Recovered',\n",
       "       'Confirmed_last_week', '1_week_change', '1_week_%_increase',\n",
       "       'WHO_Region'],\n",
       "      dtype='object')"
      ]
     },
     "execution_count": 33,
     "metadata": {},
     "output_type": "execute_result"
    }
   ],
   "source": [
    "data.columns"
   ]
  },
  {
   "cell_type": "markdown",
   "id": "9af27e6d-2fed-430c-b949-3b011abcaa97",
   "metadata": {},
   "source": [
    "### 13. How many countries have more than 1 million total cases"
   ]
  },
  {
   "cell_type": "code",
   "execution_count": 35,
   "id": "913a334a-a8d9-464e-bdd1-b6415884849d",
   "metadata": {},
   "outputs": [
    {
     "data": {
      "text/plain": [
       "3"
      ]
     },
     "execution_count": 35,
     "metadata": {},
     "output_type": "execute_result"
    }
   ],
   "source": [
    "(data.Confirmed > 1000000).sum()"
   ]
  },
  {
   "cell_type": "markdown",
   "id": "6266efaf-bdf4-4404-b652-655d92d5da74",
   "metadata": {},
   "source": [
    "### 14. Which countries have a recovery rate (Recovered / Total Cases) above 95%"
   ]
  },
  {
   "cell_type": "code",
   "execution_count": 37,
   "id": "d0157e61-eca5-409f-8b20-19d2c94eabeb",
   "metadata": {},
   "outputs": [
    {
     "data": {
      "text/plain": [
       "12"
      ]
     },
     "execution_count": 37,
     "metadata": {},
     "output_type": "execute_result"
    }
   ],
   "source": [
    "(data[\"Recovered_/_100_Cases\"] > 95).sum()"
   ]
  },
  {
   "cell_type": "markdown",
   "id": "b2387574-6ac9-44b7-b10d-01b579b0cb30",
   "metadata": {},
   "source": [
    "### 15. Drop columns name WHO Region and Confirmed"
   ]
  },
  {
   "cell_type": "code",
   "execution_count": 39,
   "id": "3d4c8212-8093-40ad-96a8-17188a89383b",
   "metadata": {},
   "outputs": [
    {
     "data": {
      "text/html": [
       "<div>\n",
       "<style scoped>\n",
       "    .dataframe tbody tr th:only-of-type {\n",
       "        vertical-align: middle;\n",
       "    }\n",
       "\n",
       "    .dataframe tbody tr th {\n",
       "        vertical-align: top;\n",
       "    }\n",
       "\n",
       "    .dataframe thead th {\n",
       "        text-align: right;\n",
       "    }\n",
       "</style>\n",
       "<table border=\"1\" class=\"dataframe\">\n",
       "  <thead>\n",
       "    <tr style=\"text-align: right;\">\n",
       "      <th></th>\n",
       "      <th>Country/Region</th>\n",
       "      <th>Deaths</th>\n",
       "      <th>Recovered</th>\n",
       "      <th>Active</th>\n",
       "      <th>New_cases</th>\n",
       "      <th>New_deaths</th>\n",
       "      <th>New_recovered</th>\n",
       "      <th>Deaths_/_100_Cases</th>\n",
       "      <th>Recovered_/_100_Cases</th>\n",
       "      <th>Deaths_/_100_Recovered</th>\n",
       "      <th>Confirmed_last_week</th>\n",
       "      <th>1_week_change</th>\n",
       "      <th>1_week_%_increase</th>\n",
       "    </tr>\n",
       "    <tr>\n",
       "      <th>Index</th>\n",
       "      <th></th>\n",
       "      <th></th>\n",
       "      <th></th>\n",
       "      <th></th>\n",
       "      <th></th>\n",
       "      <th></th>\n",
       "      <th></th>\n",
       "      <th></th>\n",
       "      <th></th>\n",
       "      <th></th>\n",
       "      <th></th>\n",
       "      <th></th>\n",
       "      <th></th>\n",
       "    </tr>\n",
       "  </thead>\n",
       "  <tbody>\n",
       "    <tr>\n",
       "      <th>0</th>\n",
       "      <td>Afghanistan</td>\n",
       "      <td>1269.0</td>\n",
       "      <td>25198</td>\n",
       "      <td>9796</td>\n",
       "      <td>106.0</td>\n",
       "      <td>10.0</td>\n",
       "      <td>18</td>\n",
       "      <td>3.5</td>\n",
       "      <td>69.49</td>\n",
       "      <td>5.04</td>\n",
       "      <td>35526</td>\n",
       "      <td>737</td>\n",
       "      <td>2.07</td>\n",
       "    </tr>\n",
       "  </tbody>\n",
       "</table>\n",
       "</div>"
      ],
      "text/plain": [
       "      Country/Region  Deaths  Recovered  Active  New_cases  New_deaths  \\\n",
       "Index                                                                    \n",
       "0        Afghanistan  1269.0      25198    9796      106.0        10.0   \n",
       "\n",
       "       New_recovered  Deaths_/_100_Cases  Recovered_/_100_Cases  \\\n",
       "Index                                                             \n",
       "0                 18                 3.5                  69.49   \n",
       "\n",
       "       Deaths_/_100_Recovered  Confirmed_last_week  1_week_change  \\\n",
       "Index                                                               \n",
       "0                        5.04                35526            737   \n",
       "\n",
       "       1_week_%_increase  \n",
       "Index                     \n",
       "0                   2.07  "
      ]
     },
     "execution_count": 39,
     "metadata": {},
     "output_type": "execute_result"
    }
   ],
   "source": [
    "data.drop(columns=[\"WHO_Region\",\"Confirmed\"],inplace=True)\n",
    "data.head(1)"
   ]
  },
  {
   "cell_type": "markdown",
   "id": "c29b660c-6420-402f-b6ce-bc01a0260a36",
   "metadata": {},
   "source": [
    "### 16. Find the Country with the Max Deaths"
   ]
  },
  {
   "cell_type": "code",
   "execution_count": 41,
   "id": "9cd0f573-8e40-4570-8711-5f7316a0470d",
   "metadata": {},
   "outputs": [
    {
     "name": "stdout",
     "output_type": "stream",
     "text": [
      "Index\n",
      "173    US\n",
      "Name: Country/Region, dtype: object\n",
      "148011.0\n"
     ]
    }
   ],
   "source": [
    "print(data[\"Country/Region\"][data.Deaths==data.Deaths.max()])\n",
    "print(data.Deaths.max())"
   ]
  },
  {
   "cell_type": "markdown",
   "id": "daeaae28-bf1d-493f-907a-44cb91feff0c",
   "metadata": {},
   "source": [
    "### 17. Sort Countries by Deaths (Descending Order)"
   ]
  },
  {
   "cell_type": "code",
   "execution_count": 43,
   "id": "f4af5601-092c-4885-ac28-63e6b61986d4",
   "metadata": {},
   "outputs": [
    {
     "data": {
      "text/html": [
       "<div>\n",
       "<style scoped>\n",
       "    .dataframe tbody tr th:only-of-type {\n",
       "        vertical-align: middle;\n",
       "    }\n",
       "\n",
       "    .dataframe tbody tr th {\n",
       "        vertical-align: top;\n",
       "    }\n",
       "\n",
       "    .dataframe thead th {\n",
       "        text-align: right;\n",
       "    }\n",
       "</style>\n",
       "<table border=\"1\" class=\"dataframe\">\n",
       "  <thead>\n",
       "    <tr style=\"text-align: right;\">\n",
       "      <th></th>\n",
       "      <th>Country/Region</th>\n",
       "      <th>Deaths</th>\n",
       "    </tr>\n",
       "    <tr>\n",
       "      <th>Index</th>\n",
       "      <th></th>\n",
       "      <th></th>\n",
       "    </tr>\n",
       "  </thead>\n",
       "  <tbody>\n",
       "    <tr>\n",
       "      <th>173</th>\n",
       "      <td>US</td>\n",
       "      <td>148011.0</td>\n",
       "    </tr>\n",
       "    <tr>\n",
       "      <th>23</th>\n",
       "      <td>Brazil</td>\n",
       "      <td>87618.0</td>\n",
       "    </tr>\n",
       "    <tr>\n",
       "      <th>177</th>\n",
       "      <td>United Kingdom</td>\n",
       "      <td>45844.0</td>\n",
       "    </tr>\n",
       "    <tr>\n",
       "      <th>111</th>\n",
       "      <td>Mexico</td>\n",
       "      <td>44022.0</td>\n",
       "    </tr>\n",
       "    <tr>\n",
       "      <th>85</th>\n",
       "      <td>Italy</td>\n",
       "      <td>35112.0</td>\n",
       "    </tr>\n",
       "    <tr>\n",
       "      <th>...</th>\n",
       "      <td>...</td>\n",
       "      <td>...</td>\n",
       "    </tr>\n",
       "    <tr>\n",
       "      <th>19</th>\n",
       "      <td>Bhutan</td>\n",
       "      <td>0.0</td>\n",
       "    </tr>\n",
       "    <tr>\n",
       "      <th>130</th>\n",
       "      <td>Papua New Guinea</td>\n",
       "      <td>0.0</td>\n",
       "    </tr>\n",
       "    <tr>\n",
       "      <th>75</th>\n",
       "      <td>Holy See</td>\n",
       "      <td>0.0</td>\n",
       "    </tr>\n",
       "    <tr>\n",
       "      <th>30</th>\n",
       "      <td>Cambodia</td>\n",
       "      <td>0.0</td>\n",
       "    </tr>\n",
       "    <tr>\n",
       "      <th>114</th>\n",
       "      <td>Mongolia</td>\n",
       "      <td>0.0</td>\n",
       "    </tr>\n",
       "  </tbody>\n",
       "</table>\n",
       "<p>187 rows × 2 columns</p>\n",
       "</div>"
      ],
      "text/plain": [
       "         Country/Region    Deaths\n",
       "Index                            \n",
       "173                  US  148011.0\n",
       "23               Brazil   87618.0\n",
       "177      United Kingdom   45844.0\n",
       "111              Mexico   44022.0\n",
       "85                Italy   35112.0\n",
       "...                 ...       ...\n",
       "19               Bhutan       0.0\n",
       "130    Papua New Guinea       0.0\n",
       "75             Holy See       0.0\n",
       "30             Cambodia       0.0\n",
       "114            Mongolia       0.0\n",
       "\n",
       "[187 rows x 2 columns]"
      ]
     },
     "execution_count": 43,
     "metadata": {},
     "output_type": "execute_result"
    }
   ],
   "source": [
    "sorted_counties = data.sort_values(by=\"Deaths\",ascending=False)[[\"Country/Region\",\"Deaths\"]]\n",
    "sorted_counties"
   ]
  },
  {
   "cell_type": "markdown",
   "id": "ee30f30b-22ae-4e71-8332-78e765c80a9d",
   "metadata": {},
   "source": [
    "### 18. Make new column name Total_cases that have a sum of Deaths, Recovered , Active"
   ]
  },
  {
   "cell_type": "code",
   "execution_count": 45,
   "id": "1e182860-eb41-4a2c-a77a-1120498202cc",
   "metadata": {},
   "outputs": [
    {
     "data": {
      "text/html": [
       "<div>\n",
       "<style scoped>\n",
       "    .dataframe tbody tr th:only-of-type {\n",
       "        vertical-align: middle;\n",
       "    }\n",
       "\n",
       "    .dataframe tbody tr th {\n",
       "        vertical-align: top;\n",
       "    }\n",
       "\n",
       "    .dataframe thead th {\n",
       "        text-align: right;\n",
       "    }\n",
       "</style>\n",
       "<table border=\"1\" class=\"dataframe\">\n",
       "  <thead>\n",
       "    <tr style=\"text-align: right;\">\n",
       "      <th></th>\n",
       "      <th>Country/Region</th>\n",
       "      <th>Deaths</th>\n",
       "      <th>Recovered</th>\n",
       "      <th>Active</th>\n",
       "      <th>New_cases</th>\n",
       "      <th>New_deaths</th>\n",
       "      <th>New_recovered</th>\n",
       "      <th>Deaths_/_100_Cases</th>\n",
       "      <th>Recovered_/_100_Cases</th>\n",
       "      <th>Deaths_/_100_Recovered</th>\n",
       "      <th>Confirmed_last_week</th>\n",
       "      <th>1_week_change</th>\n",
       "      <th>1_week_%_increase</th>\n",
       "      <th>Total_cases</th>\n",
       "    </tr>\n",
       "    <tr>\n",
       "      <th>Index</th>\n",
       "      <th></th>\n",
       "      <th></th>\n",
       "      <th></th>\n",
       "      <th></th>\n",
       "      <th></th>\n",
       "      <th></th>\n",
       "      <th></th>\n",
       "      <th></th>\n",
       "      <th></th>\n",
       "      <th></th>\n",
       "      <th></th>\n",
       "      <th></th>\n",
       "      <th></th>\n",
       "      <th></th>\n",
       "    </tr>\n",
       "  </thead>\n",
       "  <tbody>\n",
       "    <tr>\n",
       "      <th>0</th>\n",
       "      <td>Afghanistan</td>\n",
       "      <td>1269.0</td>\n",
       "      <td>25198</td>\n",
       "      <td>9796</td>\n",
       "      <td>106.0</td>\n",
       "      <td>10.0</td>\n",
       "      <td>18</td>\n",
       "      <td>3.5</td>\n",
       "      <td>69.49</td>\n",
       "      <td>5.04</td>\n",
       "      <td>35526</td>\n",
       "      <td>737</td>\n",
       "      <td>2.07</td>\n",
       "      <td>36263.0</td>\n",
       "    </tr>\n",
       "  </tbody>\n",
       "</table>\n",
       "</div>"
      ],
      "text/plain": [
       "      Country/Region  Deaths  Recovered  Active  New_cases  New_deaths  \\\n",
       "Index                                                                    \n",
       "0        Afghanistan  1269.0      25198    9796      106.0        10.0   \n",
       "\n",
       "       New_recovered  Deaths_/_100_Cases  Recovered_/_100_Cases  \\\n",
       "Index                                                             \n",
       "0                 18                 3.5                  69.49   \n",
       "\n",
       "       Deaths_/_100_Recovered  Confirmed_last_week  1_week_change  \\\n",
       "Index                                                               \n",
       "0                        5.04                35526            737   \n",
       "\n",
       "       1_week_%_increase  Total_cases  \n",
       "Index                                  \n",
       "0                   2.07      36263.0  "
      ]
     },
     "execution_count": 45,
     "metadata": {},
     "output_type": "execute_result"
    }
   ],
   "source": [
    "data[\"Total_cases\"] = data.Deaths+data.Recovered+data.Active\n",
    "data[data.Total_cases==36263.0]"
   ]
  },
  {
   "cell_type": "markdown",
   "id": "d3d64949-325c-441b-a534-be5c45f3615f",
   "metadata": {},
   "source": [
    "#### 19. Calculate Death_Rate for Each Country (Deaths per Total Cases) by suing formula (Desths/Total_cases)*100 and save it in Death_Rate column"
   ]
  },
  {
   "cell_type": "code",
   "execution_count": 47,
   "id": "e9e14e00-774b-44c9-9219-0c4c55b5fff2",
   "metadata": {},
   "outputs": [
    {
     "data": {
      "text/html": [
       "<div>\n",
       "<style scoped>\n",
       "    .dataframe tbody tr th:only-of-type {\n",
       "        vertical-align: middle;\n",
       "    }\n",
       "\n",
       "    .dataframe tbody tr th {\n",
       "        vertical-align: top;\n",
       "    }\n",
       "\n",
       "    .dataframe thead th {\n",
       "        text-align: right;\n",
       "    }\n",
       "</style>\n",
       "<table border=\"1\" class=\"dataframe\">\n",
       "  <thead>\n",
       "    <tr style=\"text-align: right;\">\n",
       "      <th></th>\n",
       "      <th>Country/Region</th>\n",
       "      <th>Deaths</th>\n",
       "      <th>Recovered</th>\n",
       "      <th>Active</th>\n",
       "      <th>New_cases</th>\n",
       "      <th>New_deaths</th>\n",
       "      <th>New_recovered</th>\n",
       "      <th>Deaths_/_100_Cases</th>\n",
       "      <th>Recovered_/_100_Cases</th>\n",
       "      <th>Deaths_/_100_Recovered</th>\n",
       "      <th>Confirmed_last_week</th>\n",
       "      <th>1_week_change</th>\n",
       "      <th>1_week_%_increase</th>\n",
       "      <th>Total_cases</th>\n",
       "      <th>Death_Rate</th>\n",
       "    </tr>\n",
       "    <tr>\n",
       "      <th>Index</th>\n",
       "      <th></th>\n",
       "      <th></th>\n",
       "      <th></th>\n",
       "      <th></th>\n",
       "      <th></th>\n",
       "      <th></th>\n",
       "      <th></th>\n",
       "      <th></th>\n",
       "      <th></th>\n",
       "      <th></th>\n",
       "      <th></th>\n",
       "      <th></th>\n",
       "      <th></th>\n",
       "      <th></th>\n",
       "      <th></th>\n",
       "    </tr>\n",
       "  </thead>\n",
       "  <tbody>\n",
       "    <tr>\n",
       "      <th>0</th>\n",
       "      <td>Afghanistan</td>\n",
       "      <td>1269.0</td>\n",
       "      <td>25198</td>\n",
       "      <td>9796</td>\n",
       "      <td>106.0</td>\n",
       "      <td>10.0</td>\n",
       "      <td>18</td>\n",
       "      <td>3.50</td>\n",
       "      <td>69.49</td>\n",
       "      <td>5.04</td>\n",
       "      <td>35526</td>\n",
       "      <td>737</td>\n",
       "      <td>2.07</td>\n",
       "      <td>36263.0</td>\n",
       "      <td>3.499435</td>\n",
       "    </tr>\n",
       "    <tr>\n",
       "      <th>1</th>\n",
       "      <td>Albania</td>\n",
       "      <td>144.0</td>\n",
       "      <td>2745</td>\n",
       "      <td>1991</td>\n",
       "      <td>117.0</td>\n",
       "      <td>6.0</td>\n",
       "      <td>63</td>\n",
       "      <td>2.95</td>\n",
       "      <td>56.25</td>\n",
       "      <td>5.25</td>\n",
       "      <td>4171</td>\n",
       "      <td>709</td>\n",
       "      <td>17.00</td>\n",
       "      <td>4880.0</td>\n",
       "      <td>2.950820</td>\n",
       "    </tr>\n",
       "    <tr>\n",
       "      <th>2</th>\n",
       "      <td>Algeria</td>\n",
       "      <td>1163.0</td>\n",
       "      <td>18837</td>\n",
       "      <td>7973</td>\n",
       "      <td>616.0</td>\n",
       "      <td>8.0</td>\n",
       "      <td>749</td>\n",
       "      <td>4.16</td>\n",
       "      <td>67.34</td>\n",
       "      <td>6.17</td>\n",
       "      <td>23691</td>\n",
       "      <td>4282</td>\n",
       "      <td>18.07</td>\n",
       "      <td>27973.0</td>\n",
       "      <td>4.157581</td>\n",
       "    </tr>\n",
       "    <tr>\n",
       "      <th>3</th>\n",
       "      <td>Andorra</td>\n",
       "      <td>52.0</td>\n",
       "      <td>803</td>\n",
       "      <td>52</td>\n",
       "      <td>10.0</td>\n",
       "      <td>0.0</td>\n",
       "      <td>0</td>\n",
       "      <td>5.73</td>\n",
       "      <td>88.53</td>\n",
       "      <td>6.48</td>\n",
       "      <td>884</td>\n",
       "      <td>23</td>\n",
       "      <td>2.60</td>\n",
       "      <td>907.0</td>\n",
       "      <td>5.733186</td>\n",
       "    </tr>\n",
       "    <tr>\n",
       "      <th>4</th>\n",
       "      <td>Angola</td>\n",
       "      <td>41.0</td>\n",
       "      <td>242</td>\n",
       "      <td>667</td>\n",
       "      <td>18.0</td>\n",
       "      <td>1.0</td>\n",
       "      <td>0</td>\n",
       "      <td>4.32</td>\n",
       "      <td>25.47</td>\n",
       "      <td>16.94</td>\n",
       "      <td>749</td>\n",
       "      <td>201</td>\n",
       "      <td>26.84</td>\n",
       "      <td>950.0</td>\n",
       "      <td>4.315789</td>\n",
       "    </tr>\n",
       "  </tbody>\n",
       "</table>\n",
       "</div>"
      ],
      "text/plain": [
       "      Country/Region  Deaths  Recovered  Active  New_cases  New_deaths  \\\n",
       "Index                                                                    \n",
       "0        Afghanistan  1269.0      25198    9796      106.0        10.0   \n",
       "1            Albania   144.0       2745    1991      117.0         6.0   \n",
       "2            Algeria  1163.0      18837    7973      616.0         8.0   \n",
       "3            Andorra    52.0        803      52       10.0         0.0   \n",
       "4             Angola    41.0        242     667       18.0         1.0   \n",
       "\n",
       "       New_recovered  Deaths_/_100_Cases  Recovered_/_100_Cases  \\\n",
       "Index                                                             \n",
       "0                 18                3.50                  69.49   \n",
       "1                 63                2.95                  56.25   \n",
       "2                749                4.16                  67.34   \n",
       "3                  0                5.73                  88.53   \n",
       "4                  0                4.32                  25.47   \n",
       "\n",
       "       Deaths_/_100_Recovered  Confirmed_last_week  1_week_change  \\\n",
       "Index                                                               \n",
       "0                        5.04                35526            737   \n",
       "1                        5.25                 4171            709   \n",
       "2                        6.17                23691           4282   \n",
       "3                        6.48                  884             23   \n",
       "4                       16.94                  749            201   \n",
       "\n",
       "       1_week_%_increase  Total_cases  Death_Rate  \n",
       "Index                                              \n",
       "0                   2.07      36263.0    3.499435  \n",
       "1                  17.00       4880.0    2.950820  \n",
       "2                  18.07      27973.0    4.157581  \n",
       "3                   2.60        907.0    5.733186  \n",
       "4                  26.84        950.0    4.315789  "
      ]
     },
     "execution_count": 47,
     "metadata": {},
     "output_type": "execute_result"
    }
   ],
   "source": [
    "data[\"Death_Rate\"] = data.Deaths/data.Total_cases*100\n",
    "data.head()"
   ]
  },
  {
   "cell_type": "markdown",
   "id": "27b99ea4-a233-422c-9a82-12931cd7bf42",
   "metadata": {},
   "source": [
    "### 20. Identify countries where total cases are increasing but death rates remain low."
   ]
  },
  {
   "cell_type": "code",
   "execution_count": 110,
   "id": "8cd96eb6-6eaf-4268-93c0-57089f9c6ae9",
   "metadata": {},
   "outputs": [
    {
     "data": {
      "text/plain": [
       "Index\n",
       "6                  Argentina\n",
       "7                    Armenia\n",
       "8                  Australia\n",
       "10                Azerbaijan\n",
       "12                   Bahrain\n",
       "13                Bangladesh\n",
       "18                     Benin\n",
       "19                    Bhutan\n",
       "22                  Botswana\n",
       "28                   Burundi\n",
       "29                Cabo Verde\n",
       "30                  Cambodia\n",
       "38                   Comoros\n",
       "39       Congo (Brazzaville)\n",
       "41                Costa Rica\n",
       "42             Cote d'Ivoire\n",
       "50        Dominican Republic\n",
       "55                   Eritrea\n",
       "57                  Eswatini\n",
       "58                  Ethiopia\n",
       "62                     Gabon\n",
       "64                   Georgia\n",
       "66                     Ghana\n",
       "68                 Greenland\n",
       "71                    Guinea\n",
       "84                    Israel\n",
       "86                   Jamaica\n",
       "89                Kazakhstan\n",
       "90                     Kenya\n",
       "92                    Kuwait\n",
       "94                      Laos\n",
       "96                   Lebanon\n",
       "102               Luxembourg\n",
       "103               Madagascar\n",
       "106                 Maldives\n",
       "115               Montenegro\n",
       "116                  Morocco\n",
       "117               Mozambique\n",
       "118                  Namibia\n",
       "119                    Nepal\n",
       "127                     Oman\n",
       "130         Papua New Guinea\n",
       "131                 Paraguay\n",
       "138                   Russia\n",
       "139                   Rwanda\n",
       "144    Sao Tome and Principe\n",
       "145             Saudi Arabia\n",
       "146                  Senegal\n",
       "148               Seychelles\n",
       "150                Singapore\n",
       "151                 Slovakia\n",
       "154             South Africa\n",
       "160                 Suriname\n",
       "174                   Uganda\n",
       "179               Uzbekistan\n",
       "180                Venezuela\n",
       "181                  Vietnam\n",
       "182       West Bank and Gaza\n",
       "Name: Country/Region, dtype: object"
      ]
     },
     "execution_count": 110,
     "metadata": {},
     "output_type": "execute_result"
    }
   ],
   "source": [
    "low_death_countries = data[\"Country/Region\"][(data['1_week_%_increase'] > 5) & (data.Death_Rate < 2)]\n",
    "low_death_countries"
   ]
  },
  {
   "cell_type": "markdown",
   "id": "9c013156-d528-45b7-8d18-de3f8df94b0d",
   "metadata": {},
   "source": [
    "### 21. print head of only 2 columns Country/Region and Death_Rate"
   ]
  },
  {
   "cell_type": "code",
   "execution_count": 124,
   "id": "05a89c68-5a6c-4642-abfc-2f8d57241beb",
   "metadata": {},
   "outputs": [
    {
     "name": "stdout",
     "output_type": "stream",
     "text": [
      "Index\n",
      "0    Afghanistan\n",
      "1        Albania\n",
      "2        Algeria\n",
      "3        Andorra\n",
      "4         Angola\n",
      "Name: Country/Region, dtype: object Index\n",
      "0    3.499435\n",
      "1    2.950820\n",
      "2    4.157581\n",
      "3    5.733186\n",
      "4    4.315789\n",
      "Name: Death_Rate, dtype: float64\n"
     ]
    }
   ],
   "source": [
    "print(data[\"Country/Region\"].head(),data.Death_Rate.head())"
   ]
  },
  {
   "cell_type": "markdown",
   "id": "b804e1b7-2141-4f8b-a98b-bd01737a2f18",
   "metadata": {},
   "source": [
    "### 22. Create a scatter plot comparing total cases and total deaths."
   ]
  },
  {
   "cell_type": "code",
   "execution_count": 139,
   "id": "cc73125a-2580-4783-ac62-1f52cf08b394",
   "metadata": {},
   "outputs": [
    {
     "data": {
      "image/png": "[encoded data removed]",
      "text/plain": [
       "<Figure size 640x480 with 1 Axes>"
      ]
     },
     "metadata": {},
     "output_type": "display_data"
    }
   ],
   "source": [
    "import matplotlib.pyplot as plt\n",
    "import seaborn as sns\n",
    "sns.scatterplot(data=data,x=\"Total_cases\",y=\"Deaths\")\n",
    "plt.xlabel(\"Total_cases\")\n",
    "plt.ylabel(\"Deaths\")\n",
    "plt.title(\"Total Cases vs Total Deaths\")\n",
    "plt.show()"
   ]
  },
  {
   "cell_type": "code",
   "execution_count": 159,
   "id": "ffcadf2a-a0b3-4cd5-975e-faff637bf33d",
   "metadata": {},
   "outputs": [],
   "source": [
    "data.to_csv(\"modified_covid_19.csv\",index=False)"
   ]
  },
  {
   "cell_type": "code",
   "execution_count": null,
   "id": "ebb9e153-7be0-44d4-8bd2-0886e744b409",
   "metadata": {},
   "outputs": [],
   "source": []
  }
 ],
 "metadata": {
  "kernelspec": {
   "display_name": "Python 3 (ipykernel)",
   "language": "python",
   "name": "python3"
  },
  "language_info": {
   "codemirror_mode": {
    "name": "ipython",
    "version": 3
   },
   "file_extension": ".py",
   "mimetype": "text/x-python",
   "name": "python",
   "nbconvert_exporter": "python",
   "pygments_lexer": "ipython3",
   "version": "3.12.4"
  }
 },
 "nbformat": 4,
 "nbformat_minor": 5
}
